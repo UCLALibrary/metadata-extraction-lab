{
 "cells": [
  {
   "cell_type": "code",
   "execution_count": null,
   "id": "5bfa29f7-0361-4d01-a68a-a3f1d32a7423",
   "metadata": {
    "editable": true,
    "slideshow": {
     "slide_type": ""
    },
    "tags": []
   },
   "outputs": [],
   "source": [
    "from paddleocr import PaddleOCR,draw_ocr\n",
    "from PIL import Image\n",
    "from IPython.display import display\n",
    "from llama_index.llms.ollama import Ollama"
   ]
  },
  {
   "cell_type": "code",
   "execution_count": null,
   "id": "a5ae8def-6b9c-4749-b728-fd97eb050f4d",
   "metadata": {
    "editable": true,
    "slideshow": {
     "slide_type": ""
    },
    "tags": []
   },
   "outputs": [],
   "source": [
    "ocr = PaddleOCR(use_angle_cls=True, lang='en', show_log = False)\n",
    "# EDIT ME: change the value of img_path to your file's location.\n",
    "img_path = 'data/1996-388-035.pdf'\n",
    "result = ocr.ocr(img_path, cls=True)\n",
    "ocr_text = ''\n",
    "for res in result:\n",
    "    for line in res:\n",
    "        ocr_text += (line[-1][0] + '\\n')\n",
    "\n",
    "print(ocr_text)"
   ]
  },
  {
   "cell_type": "code",
   "execution_count": null,
   "id": "3fb77822-c9bc-42ab-8ede-ffc1c7fa3fbc",
   "metadata": {},
   "outputs": [],
   "source": [
    "from refined.data_types.base_types import Span, Entity\n",
    "from refined.inference.processor import Refined"
   ]
  },
  {
   "cell_type": "code",
   "execution_count": null,
   "id": "b250c44d-8b0a-4b9f-8b04-45b8806b8efe",
   "metadata": {},
   "outputs": [],
   "source": [
    "refined = Refined.from_pretrained(model_name='wikipedia_model',\n",
    "                                  entity_set='wikipedia',\n",
    "                                  use_precomputed_descriptions=False,\n",
    "                                  download_files=True,\n",
    "                                  device='cpu')"
   ]
  },
  {
   "cell_type": "code",
   "execution_count": null,
   "id": "2b2d147c-acda-4a19-87e2-c640721e1193",
   "metadata": {},
   "outputs": [],
   "source": [
    "def construct_wikidata_url(id):\n",
    "    return \"https://www.wikidata.org/wiki/\" + id\n",
    "    \n",
    "text = ocr_text\n",
    "spans = refined.process_text(text)\n",
    "\n",
    "named_entities = []\n",
    "for span in spans:\n",
    "    id = span.predicted_entity.wikidata_entity_id\n",
    "    name = span.predicted_entity.wikipedia_entity_title\n",
    "\n",
    "    if name is not None and id is not None:\n",
    "        url = construct_wikidata_url(id)\n",
    "        full_entity = (name_url)\n",
    "        if full_entity not in named_entities:\n",
    "            named_entities.append((name, url))\n",
    "        \n",
    "\n"
   ]
  },
  {
   "cell_type": "code",
   "execution_count": null,
   "id": "fd2419f8-1920-4cc1-9b41-84c92d7c4b73",
   "metadata": {},
   "outputs": [],
   "source": [
    "description_prompt = (\"The below text is taken from a political advertisement.\"\n",
    "    f\" Using neutral language, summarize its contents. '''{ocr_text}'''\"\n",
    "    )\n",
    "# title prompt needs work\n",
    "title_prompt =  (\" Using neutral language, provide a short title for this political advertisement in less than 10 words: \"\n",
    "                f\"'''{ocr_text}'''\")\n",
    "\n",
    "llm = Ollama(base_url=\"http://ollama:11434\", model=\"tinyllama\", request_timeout=180.0)\n",
    "description = llm.complete(description_prompt)\n",
    "title = llm.complete(title_prompt)\n",
    "print(description)\n",
    "print()\n",
    "print(title)"
   ]
  },
  {
   "cell_type": "code",
   "execution_count": null,
   "id": "ed6dadb9-5b27-4db0-bf89-80dd403d3541",
   "metadata": {},
   "outputs": [],
   "source": [
    "import json\n",
    "record_dict = {\"title\": str(title),\n",
    "               \"description\": str(description),\n",
    "               \"related_entities\": named_entities}\n",
    "\n",
    "with open(\"output_record.json\", \"w\") as outfile: \n",
    "    json.dump(record_dict, outfile)\n",
    "\n"
   ]
  },
  {
   "cell_type": "code",
   "execution_count": null,
   "id": "dadb0686-415b-4039-9151-2f6a81c56645",
   "metadata": {},
   "outputs": [],
   "source": []
  }
 ],
 "metadata": {
  "kernelspec": {
   "display_name": "Python 3 (ipykernel)",
   "language": "python",
   "name": "python3"
  },
  "language_info": {
   "codemirror_mode": {
    "name": "ipython",
    "version": 3
   },
   "file_extension": ".py",
   "mimetype": "text/x-python",
   "name": "python",
   "nbconvert_exporter": "python",
   "pygments_lexer": "ipython3",
   "version": "3.9.19"
  }
 },
 "nbformat": 4,
 "nbformat_minor": 5
}
