{
 "cells": [
  {
   "cell_type": "code",
   "execution_count": null,
   "id": "5bfa29f7-0361-4d01-a68a-a3f1d32a7423",
   "metadata": {
    "editable": true,
    "slideshow": {
     "slide_type": ""
    },
    "tags": []
   },
   "outputs": [],
   "source": [
    "from paddleocr import PaddleOCR,draw_ocr\n",
    "from PIL import Image\n",
    "from IPython.display import display"
   ]
  },
  {
   "cell_type": "code",
   "execution_count": null,
   "id": "a5ae8def-6b9c-4749-b728-fd97eb050f4d",
   "metadata": {
    "editable": true,
    "slideshow": {
     "slide_type": ""
    },
    "tags": []
   },
   "outputs": [],
   "source": [
    "ocr = PaddleOCR(use_angle_cls=True, lang='en', show_log = False)\n",
    "# EDIT ME: change the value of img_path to your file's location.\n",
    "img_path = 'data/1996-393-011.pdf'\n",
    "result = ocr.ocr(img_path, cls=True)\n",
    "ocr_text = ''\n",
    "for res in result:\n",
    "    for line in res:\n",
    "        ocr_text += (line[-1][0] + '\\n')\n",
    "\n",
    "print(ocr_text)"
   ]
  },
  {
   "cell_type": "code",
   "execution_count": null,
   "id": "3fb77822-c9bc-42ab-8ede-ffc1c7fa3fbc",
   "metadata": {},
   "outputs": [],
   "source": [
    "from refined.data_types.base_types import Span, Entity\n",
    "from refined.inference.processor import Refined"
   ]
  },
  {
   "cell_type": "code",
   "execution_count": null,
   "id": "b250c44d-8b0a-4b9f-8b04-45b8806b8efe",
   "metadata": {},
   "outputs": [],
   "source": [
    "refined = Refined.from_pretrained(model_name='wikipedia_model',\n",
    "                                  entity_set='wikipedia',\n",
    "                                  use_precomputed_descriptions=False)"
   ]
  },
  {
   "cell_type": "code",
   "execution_count": null,
   "id": "2b2d147c-acda-4a19-87e2-c640721e1193",
   "metadata": {},
   "outputs": [],
   "source": [
    "text = ocr_text\n",
    "spans = refined.process_text(text)\n",
    "\n",
    "named_entities = []\n",
    "for span in spans:\n",
    "    id = span.predicted_entity.wikidata_entity_id\n",
    "    name = span.predicted_entity.wikipedia_entity_title\n",
    "\n",
    "    if name is not None and id is not None:\n",
    "        url = construct_wikidata_url(id)\n",
    "        named_entities.append((name, url))\n",
    "        \n",
    "\n",
    "def construct_wikidata_url(id):\n",
    "    return \"https://www.wikidata.org/wiki/\" + id"
   ]
  },
  {
   "cell_type": "code",
   "execution_count": null,
   "id": "fd2419f8-1920-4cc1-9b41-84c92d7c4b73",
   "metadata": {},
   "outputs": [],
   "source": [
    "# EDIT ME: If you have an OpenAI API key and want to use it, set it here.\n",
    "# Otherwise, leave this as an empty string.\n",
    "openai_api_key = \"\"\n",
    "\n",
    "prompt = (\n",
    "        \"Below is the OCR text from a document from UCLA's Campaign Literature collection, \"\n",
    "        \" along with a list of named entities known to be associated with the document. \"\n",
    "        \"Provide a Dublin Core 'Title', 'Subject', and 'Description' field for a metadata record for the original document. \"\n",
    "        \"Use 'sentence case' for the 'Title' field. \"\n",
    "        \"Return only Dublin Core fields. Enclose each individual field in curly braces. \"\n",
    "        \"Use the given wikidata links in the Subject field if appropriate. \\n \\n\"\n",
    "        f\"The named entities are enclosed in three single quotes below: \\n '''{named_entities}''' \\n \\n\"\n",
    "        f\"The text from the document is enclosed in three single quotes below: \\n '''{ocr_text}'''\"\n",
    "    )\n",
    "\n"
   ]
  },
  {
   "cell_type": "code",
   "execution_count": null,
   "id": "ed6dadb9-5b27-4db0-bf89-80dd403d3541",
   "metadata": {},
   "outputs": [],
   "source": [
    "def get_gpt_as_dict(client, prompt, temperature = 0.1, top_p = 0.3) -> dict:\n",
    "    completion = client.chat.completions.create(\n",
    "        model=\"gpt-4-turbo\",\n",
    "        messages=[\n",
    "            {\n",
    "                \"role\": \"user\",\n",
    "                \"content\": prompt,\n",
    "            },\n",
    "        ],\n",
    "        temperature=temperature,\n",
    "        top_p=top_p,\n",
    "    )\n",
    "    response = completion.choices[0].message.content\n",
    "    return json.loads(response)\n",
    "\n",
    "if openai_api_key:\n",
    "    from openai import OpenAI\n",
    "    client = OpenAI(api_key=openai_api_key)\n",
    "    response = get_gpt_as_dict(client, prompt)\n",
    "    pprint(response)\n",
    "\n",
    "else:\n",
    "    print(\"Copy and paste the below prompt into your chosen LLM:\")\n",
    "    print()\n",
    "    print(prompt)\n",
    "    \n"
   ]
  },
  {
   "cell_type": "code",
   "execution_count": null,
   "id": "80a551aa-9248-4c54-8d63-c98943b4e8c0",
   "metadata": {},
   "outputs": [],
   "source": []
  }
 ],
 "metadata": {
  "kernelspec": {
   "display_name": "Python 3 (ipykernel)",
   "language": "python",
   "name": "python3"
  },
  "language_info": {
   "codemirror_mode": {
    "name": "ipython",
    "version": 3
   },
   "file_extension": ".py",
   "mimetype": "text/x-python",
   "name": "python",
   "nbconvert_exporter": "python",
   "pygments_lexer": "ipython3",
   "version": "3.9.19"
  }
 },
 "nbformat": 4,
 "nbformat_minor": 5
}
