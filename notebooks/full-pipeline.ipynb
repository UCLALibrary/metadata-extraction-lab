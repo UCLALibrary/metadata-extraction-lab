{
 "cells": [
  {
   "cell_type": "code",
   "execution_count": 1,
   "id": "5bfa29f7-0361-4d01-a68a-a3f1d32a7423",
   "metadata": {},
   "outputs": [],
   "source": [
    "from paddleocr import PaddleOCR,draw_ocr\n",
    "from PIL import Image\n",
    "from IPython.display import display"
   ]
  },
  {
   "cell_type": "code",
   "execution_count": 2,
   "id": "a5ae8def-6b9c-4749-b728-fd97eb050f4d",
   "metadata": {},
   "outputs": [
    {
     "name": "stdout",
     "output_type": "stream",
     "text": [
      "Santa Monica Police Officers\n",
      "&Firefighters'Association\n",
      "POST OFFICE BOX2160 SANTA MONICA,CALIFORNIA\n",
      "90407-2160\n",
      "Maps and Gov Info\n",
      "RESERVE\n",
      "Campaign Literature\n",
      "CAMPAIGNS,POLITICAL-1996\n",
      "MUNICIPAL, SANTA.MONICA\n",
      "GENERAL\n",
      "Dear\n",
      "Your police officers, paramedics, firefighters and our most unique City need your help on Tuesday,\n",
      "November 5th.Your commitment to vote insures that our elected officials will continue to follow the course\n",
      "of action that you feel is in Santa Monica's best interest.\n",
      "There have been a lot of positive changes over the past two years: Palisades Park, 3rd Street Promenade,\n",
      "Lincoln Park,Santa Monica Pier and the homeless issues. It is important that we not slip backwards. You\n",
      "can make an important difference in these policy making decisions by casting your vote for the council\n",
      "candidates that are committed to keeping your safety and protection their top priorities.\n",
      "Members of both the fire and police associations have interviewed the council candidates and we have\n",
      "endorsed the following candidates:\n",
      "Frank Schwengel\n",
      "Kelly Olsen\n",
      "Commissioner\n",
      "Councilmember 1990-1994\n",
      "Ken Genser\n",
      "Asha Greenberg\n",
      "Councilmember\n",
      "Mayor Pro-Tem\n",
      "These candidates continue to show commitment and selfless dedication to all of us. They give countless hours\n",
      "of their time with only one goal in mind, a better City. They will work together to insure that Santa Monica\n",
      "is second to none in the services you receive.\n",
      "We would also ask you to join with our endorsed candidates and vote YES on Measure \"EE\".All major\n",
      "political groups in Santa Monica are supporting the construction of this vitally important Public Safety\n",
      "Building.\n",
      "Did you know that our 911 Emergency phone system failed during the 1994 earthquake? Did you know that\n",
      "over 450 employees work in a space designed for 200 people? There are no public restrooms nor access for\n",
      "physically challenged people. Did you know that your jail is the oldest in the state and that there have been\n",
      "escapes? In fact, the police department has been evacuated several times in the last year due to failures of its\n",
      "dilapidated air conditioning, plumbing and other systems.\n",
      "We have not failed you, so please do your part to direct your local government.\n",
      "Please vote by Tuesday,November 5th!\n",
      "Sincerel\n",
      "eoymmenta\n",
      "toreerM\n",
      "adee\n",
      "George Menta,President\n",
      "Steven H.Brackett\n",
      "Santa Monica Firefighter's Association\n",
      "Santa Monica Police Officers'Association\n",
      "Paid for by Santa Monica Police Officers'Association.TreasurerSteve Brackett P.A.C.#862230\n",
      "Paid for by Santa Monica Firefighter's Association.TreasurerJohn Stone P.A.C.#903126\n",
      "\n"
     ]
    }
   ],
   "source": [
    "ocr = PaddleOCR(use_angle_cls=True, lang='en', show_log = False)\n",
    "img_path = 'input_2.jpg'\n",
    "result = ocr.ocr(img_path, cls=True)\n",
    "ocr_text = ''\n",
    "for res in result:\n",
    "    for line in res:\n",
    "        ocr_text += (line[-1][0] + '\\n')\n",
    "\n",
    "print(ocr_text)"
   ]
  },
  {
   "cell_type": "code",
   "execution_count": 3,
   "id": "3fb77822-c9bc-42ab-8ede-ffc1c7fa3fbc",
   "metadata": {},
   "outputs": [],
   "source": [
    "from refined.data_types.base_types import Span, Entity\n",
    "from refined.inference.processor import Refined"
   ]
  },
  {
   "cell_type": "code",
   "execution_count": null,
   "id": "b250c44d-8b0a-4b9f-8b04-45b8806b8efe",
   "metadata": {},
   "outputs": [
    {
     "name": "stderr",
     "output_type": "stream",
     "text": [
      "Downloading /home/lab/.cache/refined/wikipedia_data/qcode_to_class_tns_6269457-1\n",
      "Downloading /home/lab/.cache/refined/wikipedia_data/subclasses.lmdb: 100%|█| 120\n",
      "Downloading /home/lab/.cache/refined/wikipedia_data/descriptions_tns.pt: 100%|█|\n",
      "Downloading /home/lab/.cache/refined/wikipedia_data/qcode_to_wiki.lmdb: 100%|█| \n",
      "Downloading /home/lab/.cache/refined/wikipedia_data/nltk_sentence_splitter_engli\n"
     ]
    }
   ],
   "source": [
    "refined = Refined.from_pretrained(model_name='wikipedia_model',\n",
    "                                  entity_set='wikipedia',\n",
    "                                  use_precomputed_descriptions=False)"
   ]
  },
  {
   "cell_type": "code",
   "execution_count": null,
   "id": "2b2d147c-acda-4a19-87e2-c640721e1193",
   "metadata": {},
   "outputs": [],
   "source": [
    "text = \"ocr_text\"\n",
    "spans = refined.process_text(text)\n",
    "\n",
    "named_entities = []\n",
    "for span in spans:\n",
    "    print(f\"{span}\\n\")\n",
    "    if isinstance(span[1], Entity):\n",
    "        url = construct_wikidata_url(span[1].wikidata_entity_id)\n",
    "        name = span[0]\n",
    "        named_entities.append((name, url))\n",
    "        \n",
    "\n",
    "def construct_wikidata_url(id):\n",
    "    return \"https://www.wikidata.org/wiki/\" + id"
   ]
  },
  {
   "cell_type": "code",
   "execution_count": null,
   "id": "fd2419f8-1920-4cc1-9b41-84c92d7c4b73",
   "metadata": {},
   "outputs": [],
   "source": [
    "openai_api_key = \"\"\n",
    "\n",
    "prompt = (\n",
    "        \"Below is the OCR text from a document from UCLA's Campaign Literature collection, \"\n",
    "        \" along with a list of named entities known to be associated with the document. \"\n",
    "        \"Provide a Dublin Core metadata record for the original document. \"\n",
    "        \"At a minumum, include 'Title', 'Subject', and 'Description' fields. \"\n",
    "        \"Use 'sentence case' for the 'Title' field. \"\n",
    "        \"Return only Dublin Core fields, correctly formatted as JSON. \"\n",
    "        f\"The named entities are enclosed in three curly braces below: {{{{spans}}}}\"\n",
    "        f\"The text from the document is enclosed in three single quotes below: '''{ocr_text}'''\"\n",
    "    )\n",
    "\n",
    "from pprint import pprint"
   ]
  },
  {
   "cell_type": "code",
   "execution_count": null,
   "id": "ed6dadb9-5b27-4db0-bf89-80dd403d3541",
   "metadata": {},
   "outputs": [],
   "source": [
    "if openai_api_key:\n",
    "    openai.api_key = openai_api_key\n",
    "    response = get_gpt_as_dict(prompt)\n",
    "    pprint(response)\n",
    "\n",
    "else:\n",
    "    print(\"Copy and paste the below prompt into your chosen LLM:\")\n",
    "    pprint(prompt)\n",
    "    \n",
    "def get_gpt_as_dict(prompt: str, temperature: float = 0.1, top_p: float = 0.3) -> dict:\n",
    "    completion = openai.ChatCompletion.create(\n",
    "        model=\"gpt-4-turbo\",\n",
    "        messages=[\n",
    "            {\n",
    "                \"role\": \"user\",\n",
    "                \"content\": prompt,\n",
    "            },\n",
    "        ],\n",
    "        temperature=temperature,\n",
    "        top_p=top_p,\n",
    "    )\n",
    "    response = completion.choices[0].message.content\n",
    "    return json.loads(response)"
   ]
  }
 ],
 "metadata": {
  "kernelspec": {
   "display_name": "Python 3 (ipykernel)",
   "language": "python",
   "name": "python3"
  },
  "language_info": {
   "codemirror_mode": {
    "name": "ipython",
    "version": 3
   },
   "file_extension": ".py",
   "mimetype": "text/x-python",
   "name": "python",
   "nbconvert_exporter": "python",
   "pygments_lexer": "ipython3",
   "version": "3.9.19"
  }
 },
 "nbformat": 4,
 "nbformat_minor": 5
}
