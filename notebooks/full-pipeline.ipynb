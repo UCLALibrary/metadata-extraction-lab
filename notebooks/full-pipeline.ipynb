{
 "cells": [
  {
   "cell_type": "code",
   "execution_count": 1,
   "id": "5bfa29f7-0361-4d01-a68a-a3f1d32a7423",
   "metadata": {
    "editable": true,
    "slideshow": {
     "slide_type": ""
    },
    "tags": []
   },
   "outputs": [],
   "source": [
    "from paddleocr import PaddleOCR,draw_ocr\n",
    "from PIL import Image\n",
    "from IPython.display import display\n",
    "from llama_index.llms.ollama import Ollama"
   ]
  },
  {
   "cell_type": "code",
   "execution_count": 10,
   "id": "a5ae8def-6b9c-4749-b728-fd97eb050f4d",
   "metadata": {
    "editable": true,
    "slideshow": {
     "slide_type": ""
    },
    "tags": []
   },
   "outputs": [
    {
     "name": "stdout",
     "output_type": "stream",
     "text": [
      "Santa Monica Police Officers\n",
      "& Firefighters'Association\n",
      "POST OFFICE BOX2160 SANTA MONICA,CALIFORNIA\n",
      "90407-2160\n",
      "Maps and Gov Info\n",
      "RESERVE\n",
      "Campaign Literature\n",
      "CAMPAIGNS, POLITICAL-1996\n",
      "MUNICIPAL, SANTA MONICA\n",
      "GENERAL\n",
      "Dear\n",
      "Your police officers, paramedics, firefighters and our most unique City need your help on Tuesday,.\n",
      "November 5th. Your commitment to vote insures that our elected officials will continue to follow the course\n",
      "of action that you feel is in Santa Monica's best interest.\n",
      "There have been a lot of positive changes over the past two years: Palisades Park, 3rd Street Promenade,\n",
      "Lincoln Park, Santa Monica Pier and the homeless issues. It is important that we not slip backwards.You\n",
      "can make an important difference in these policy making decisions by casting your vote for the council\n",
      "candidates that are committed to keeping your safety and protection their top priorities..\n",
      "Members of both the fire and police associations have interviewed the council candidates and we have\n",
      "endorsed the following candidates:\n",
      "Frank Schwengel\n",
      "Kelly Olsen\n",
      "Commissioner\n",
      "Councilmember 1990-1994\n",
      "Ken Genser\n",
      "Asha Greenberg\n",
      "Councilmember\n",
      "Mayor Pro-Tem\n",
      "These candidates continue to show commitment and selfless dedication to all of us. They give countless hours.\n",
      "of their time with only one goal in mind, a better City. They will work together to insure that Santa Monica\n",
      "is second to none in the services you receive.\n",
      "We would also ask you to join with our endorsed candidates and vote YES on Measure \"EE\". All major\n",
      "political groups in Santa Monica are supporting the construction of this vitally important Public Safety\n",
      "Building.\n",
      "Did you know that our 911 Emergency phone system failed during the 1994 earthquake? Did you know that\n",
      "over 450 employees work in a space designed for 200 people? There are no public restrooms nor access for\n",
      "physically challenged people. Did you know that your jail is the oldest in the state and that there have been\n",
      "escapes? In fact, the police department has been evacuated several times in the last year due to failures of its\n",
      "dilapidated air conditioning, plumbing and other systems.\n",
      "We have not failed you, so please do your part to direct your local government.\n",
      "Please vote by Tuesday,November 5th!\n",
      "Sincerely\n",
      "Joreer H, /acee\n",
      "ety M: Ment\n",
      "George Menta, President\n",
      "Steven H.Brackett\n",
      "Santa Monica Firefighter's Association\n",
      "Santa Monica Police Officers' Association\n",
      "Paid for by Santa Monica Police OfficersAssociation. Treasurer: Steve Brackett P.A.C.#862230\n",
      "Paid for by Santa Monica Firefighter's Association.Treasurer:John Stone P.A.C.#903126\n",
      "\n"
     ]
    }
   ],
   "source": [
    "ocr = PaddleOCR(use_angle_cls=True, lang='en', show_log = False)\n",
    "# EDIT ME: change the value of img_path to your file's location.\n",
    "img_path = 'data/1996-388-035.pdf'\n",
    "result = ocr.ocr(img_path, cls=True)\n",
    "ocr_text = ''\n",
    "for res in result:\n",
    "    for line in res:\n",
    "        ocr_text += (line[-1][0] + '\\n')\n",
    "\n",
    "print(ocr_text)"
   ]
  },
  {
   "cell_type": "code",
   "execution_count": 3,
   "id": "3fb77822-c9bc-42ab-8ede-ffc1c7fa3fbc",
   "metadata": {},
   "outputs": [],
   "source": [
    "from refined.data_types.base_types import Span, Entity\n",
    "from refined.inference.processor import Refined"
   ]
  },
  {
   "cell_type": "code",
   "execution_count": 4,
   "id": "b250c44d-8b0a-4b9f-8b04-45b8806b8efe",
   "metadata": {},
   "outputs": [],
   "source": [
    "refined = Refined.from_pretrained(model_name='wikipedia_model',\n",
    "                                  entity_set='wikipedia',\n",
    "                                  use_precomputed_descriptions=False,\n",
    "                                  download_files=True)"
   ]
  },
  {
   "cell_type": "code",
   "execution_count": 33,
   "id": "2b2d147c-acda-4a19-87e2-c640721e1193",
   "metadata": {},
   "outputs": [
    {
     "ename": "NameError",
     "evalue": "name 'name_url' is not defined",
     "output_type": "error",
     "traceback": [
      "\u001b[0;31m---------------------------------------------------------------------------\u001b[0m",
      "\u001b[0;31mNameError\u001b[0m                                 Traceback (most recent call last)",
      "Cell \u001b[0;32mIn[33], line 14\u001b[0m\n\u001b[1;32m     12\u001b[0m \u001b[38;5;28;01mif\u001b[39;00m name \u001b[38;5;129;01mis\u001b[39;00m \u001b[38;5;129;01mnot\u001b[39;00m \u001b[38;5;28;01mNone\u001b[39;00m \u001b[38;5;129;01mand\u001b[39;00m \u001b[38;5;28mid\u001b[39m \u001b[38;5;129;01mis\u001b[39;00m \u001b[38;5;129;01mnot\u001b[39;00m \u001b[38;5;28;01mNone\u001b[39;00m:\n\u001b[1;32m     13\u001b[0m     url \u001b[38;5;241m=\u001b[39m construct_wikidata_url(\u001b[38;5;28mid\u001b[39m)\n\u001b[0;32m---> 14\u001b[0m     full_entity \u001b[38;5;241m=\u001b[39m (\u001b[43mname_url\u001b[49m)\n\u001b[1;32m     15\u001b[0m     \u001b[38;5;28;01mif\u001b[39;00m full_entity \u001b[38;5;129;01mnot\u001b[39;00m \u001b[38;5;129;01min\u001b[39;00m named_entities:\n\u001b[1;32m     16\u001b[0m         named_entities\u001b[38;5;241m.\u001b[39mappend((name, url))\n",
      "\u001b[0;31mNameError\u001b[0m: name 'name_url' is not defined"
     ]
    }
   ],
   "source": [
    "def construct_wikidata_url(id):\n",
    "    return \"https://www.wikidata.org/wiki/\" + id\n",
    "    \n",
    "text = ocr_text\n",
    "spans = refined.process_text(text)\n",
    "\n",
    "named_entities = []\n",
    "for span in spans:\n",
    "    id = span.predicted_entity.wikidata_entity_id\n",
    "    name = span.predicted_entity.wikipedia_entity_title\n",
    "\n",
    "    if name is not None and id is not None:\n",
    "        url = construct_wikidata_url(id)\n",
    "        full_entity = (name_url)\n",
    "        if full_entity not in named_entities:\n",
    "            named_entities.append((name, url))\n",
    "        \n",
    "\n"
   ]
  },
  {
   "cell_type": "code",
   "execution_count": 29,
   "id": "fd2419f8-1920-4cc1-9b41-84c92d7c4b73",
   "metadata": {},
   "outputs": [
    {
     "name": "stdout",
     "output_type": "stream",
     "text": [
      "The contents of the political advertisement are a call to action for Santa Monica voters, urging them to cast their ballot on November 5th in favor of candidates committed to improving public safety and services. The text highlights the urgent need to ensure that Santa Monica's emergency communications system is properly functioning and evacuation procedures are in place, citing recent failures in these areas. The campaign is endorsed by various organizations, including firefighters and police officers, who insist on a \"better City\" for all residents. The text also highlights the need to vote in favor of the construction of a Public Safety Building, which has failed multiple times during earthquakes in Santa Monica, and the importance of ensuring that 911 emergency services are adequately funded and maintained. Overall, the message is urgent and calls on voters to support candidates committed to improving their safety and protection as Santa Monica continues to evolve into a thriving, safe community for all residents.\n",
      "\n",
      "Santa Monica Police Officer and Firefighters' Association Post of Office Box 2160, Santa Monica, CA 90407 | Map and GOV Info | Campaign Literature | Reserved Election | San Francisco Municipal | General | Save Our Safety (Candidates: Frank Schwengel, Kelly Olsen, Commissioner Councilmember 1990-1994)\n",
      "\"November 5th! Join us to support our candidates and vote YES on Measure EE,\"\n"
     ]
    }
   ],
   "source": [
    "description_prompt = (\"The below text is taken from a political advertisement.\"\n",
    "    f\" Using neutral language, summarize its contents. '''{ocr_text}'''\"\n",
    "    )\n",
    "# title prompt needs work\n",
    "title_prompt =  (\" Using neutral language, provide a short title for this political advertisement in less than 10 words: \"\n",
    "                f\"'''{ocr_text}'''\")\n",
    "\n",
    "llm = Ollama(base_url=\"http://ollama:11434\", model=\"tinyllama\", request_timeout=180.0)\n",
    "description = llm.complete(description_prompt)\n",
    "title = llm.complete(title_prompt)\n",
    "print(description)\n",
    "print()\n",
    "print(title)"
   ]
  },
  {
   "cell_type": "code",
   "execution_count": 32,
   "id": "ed6dadb9-5b27-4db0-bf89-80dd403d3541",
   "metadata": {},
   "outputs": [],
   "source": [
    "import json\n",
    "record_dict = {\"title\": str(title),\n",
    "               \"description\": str(description),\n",
    "               \"related_entities\": named_entities}\n",
    "\n",
    "with open(\"output_record.json\", \"w\") as outfile: \n",
    "    json.dump(record_dict, outfile)\n",
    "\n"
   ]
  },
  {
   "cell_type": "code",
   "execution_count": null,
   "id": "dadb0686-415b-4039-9151-2f6a81c56645",
   "metadata": {},
   "outputs": [],
   "source": []
  }
 ],
 "metadata": {
  "kernelspec": {
   "display_name": "Python 3 (ipykernel)",
   "language": "python",
   "name": "python3"
  },
  "language_info": {
   "codemirror_mode": {
    "name": "ipython",
    "version": 3
   },
   "file_extension": ".py",
   "mimetype": "text/x-python",
   "name": "python",
   "nbconvert_exporter": "python",
   "pygments_lexer": "ipython3",
   "version": "3.9.19"
  }
 },
 "nbformat": 4,
 "nbformat_minor": 5
}
