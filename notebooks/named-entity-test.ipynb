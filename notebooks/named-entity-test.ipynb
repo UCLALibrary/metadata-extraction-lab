{
 "cells": [
  {
   "cell_type": "code",
   "execution_count": 1,
   "id": "ada9cf47-c720-4ae0-9cbe-332fa48e943d",
   "metadata": {},
   "outputs": [],
   "source": [
    "# Basic demo using ReFinED to extract entities\n",
    "\n",
    "from refined.data_types.base_types import Span\n",
    "from refined.inference.processor import Refined"
   ]
  },
  {
   "cell_type": "code",
   "execution_count": 7,
   "id": "45282d56-660e-44c5-ae88-881be6dbd595",
   "metadata": {},
   "outputs": [],
   "source": [
    "refined = Refined.from_pretrained(model_name='wikipedia_model',\n",
    "                                  entity_set='wikipedia',\n",
    "                                  use_precomputed_descriptions=False,\n",
    "                                  download_files=True,\n",
    "                                  device=\"cpu\",\n",
    "                                  debug=True)"
   ]
  },
  {
   "cell_type": "code",
   "execution_count": 8,
   "id": "b21bff55-1038-4e7b-814a-8d3acd7086ec",
   "metadata": {},
   "outputs": [
    {
     "name": "stdout",
     "output_type": "stream",
     "text": [
      "Prompt: Joe Bruin is the mascot of UCLA, which is located in Westwood\n",
      "['Joe Bruin', Entity(wikidata_entity_id=Q16973386, wikipedia_entity_title=Joe Bruin), None]\n",
      "\n",
      "['UCLA', Entity(wikidata_entity_id=Q174710, wikipedia_entity_title=University of California, Los Angeles), 'ORG']\n",
      "\n",
      "['Westwood', Entity(wikidata_entity_id=Q1199774, wikipedia_entity_title=Westwood, Los Angeles), 'ORG']\n",
      "\n"
     ]
    }
   ],
   "source": [
    "text = \"Joe Bruin is the mascot of UCLA, which is located in Westwood\"\n",
    "spans = refined.process_text(text)\n",
    "\n",
    "print(f\"Prompt: {text}\")\n",
    "\n",
    "for span in spans:\n",
    "  print(f\"{span}\\n\")"
   ]
  },
  {
   "cell_type": "code",
   "execution_count": 10,
   "id": "80cc21ee-825e-4ad9-be1b-209e8bf63502",
   "metadata": {},
   "outputs": [
    {
     "name": "stdout",
     "output_type": "stream",
     "text": [
      "[['Joe Biden', Entity(wikidata_entity_id=Q6279, wikipedia_entity_title=Joe Biden), 'PERSON'], ['Scranton', Entity(wikidata_entity_id=Q271395, wikipedia_entity_title=Scranton, Pennsylvania), 'FAC']]\n"
     ]
    }
   ],
   "source": [
    "text = \"Joe Biden was born in Scranton.\"\n",
    "spans = refined.process_text(text, spans=[Span(text='Joe Biden', start=0, ln=10),\n",
    "                                          Span(text='Scranton', start=22, ln=8)])\n",
    "print(spans)"
   ]
  },
  {
   "cell_type": "code",
   "execution_count": null,
   "id": "56ab3938-bfdf-42c3-9dea-d8c586a1a69b",
   "metadata": {},
   "outputs": [],
   "source": []
  }
 ],
 "metadata": {
  "kernelspec": {
   "display_name": "Python 3 (ipykernel)",
   "language": "python",
   "name": "python3"
  },
  "language_info": {
   "codemirror_mode": {
    "name": "ipython",
    "version": 3
   },
   "file_extension": ".py",
   "mimetype": "text/x-python",
   "name": "python",
   "nbconvert_exporter": "python",
   "pygments_lexer": "ipython3",
   "version": "3.9.19"
  }
 },
 "nbformat": 4,
 "nbformat_minor": 5
}
