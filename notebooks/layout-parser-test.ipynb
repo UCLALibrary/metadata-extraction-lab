{
 "cells": [
  {
   "cell_type": "code",
   "execution_count": null,
   "id": "a1470c2f-5a60-4146-bfac-49aa4402a08d",
   "metadata": {},
   "outputs": [],
   "source": [
    "# This notebook implements the demo at:\n",
    "# https://layout-parser.readthedocs.io/en/latest/example/deep_layout_parsing/index.html"
   ]
  },
  {
   "cell_type": "code",
   "execution_count": null,
   "id": "b998fb98-9197-403a-b746-0b0457c41d9a",
   "metadata": {},
   "outputs": [],
   "source": [
    "import layoutparser as lp\n",
    "import cv2"
   ]
  },
  {
   "cell_type": "code",
   "execution_count": null,
   "id": "ee41a814-ca09-4f52-bcc1-77e93cee37b0",
   "metadata": {},
   "outputs": [],
   "source": [
    "image = cv2.imread(\"../data/paper-image.jpg\")\n",
    "image = image[..., ::-1]"
   ]
  },
  {
   "cell_type": "code",
   "execution_count": null,
   "id": "54c06b6d-4955-41e1-a46b-56518fa07d51",
   "metadata": {},
   "outputs": [],
   "source": [
    "# The model retrieval cell below may take a while\n",
    "# layout-parser reaches out to dropbox for the model\n",
    "# Note: A network error can sometimes occur when retrieving the model "
   ]
  },
  {
   "cell_type": "code",
   "execution_count": null,
   "id": "0dac828d-db84-45a6-a75d-a7f1151f863b",
   "metadata": {},
   "outputs": [],
   "source": [
    "model = lp.Detectron2LayoutModel('lp://PubLayNet/faster_rcnn_R_50_FPN_3x/config',\n",
    "                                 extra_config=[\"MODEL.ROI_HEADS.SCORE_THRESH_TEST\", 0.8],\n",
    "                                 label_map={0: \"Text\", 1: \"Title\", 2: \"List\", 3:\"Table\", 4:\"Figure\"})"
   ]
  },
  {
   "cell_type": "code",
   "execution_count": null,
   "id": "fadaa8c6-caf0-4c44-b685-e15b4402856d",
   "metadata": {},
   "outputs": [],
   "source": [
    "layout = model.detect(image)"
   ]
  },
  {
   "cell_type": "code",
   "execution_count": null,
   "id": "fd998a38-04f7-48de-ae00-2a9c724b4f88",
   "metadata": {},
   "outputs": [],
   "source": [
    "lp.draw_box(image, layout, box_width=3)"
   ]
  }
 ],
 "metadata": {
  "kernelspec": {
   "display_name": "Python 3 (ipykernel)",
   "language": "python",
   "name": "python3"
  },
  "language_info": {
   "codemirror_mode": {
    "name": "ipython",
    "version": 3
   },
   "file_extension": ".py",
   "mimetype": "text/x-python",
   "name": "python",
   "nbconvert_exporter": "python",
   "pygments_lexer": "ipython3",
   "version": "3.9.19"
  }
 },
 "nbformat": 4,
 "nbformat_minor": 5
}
