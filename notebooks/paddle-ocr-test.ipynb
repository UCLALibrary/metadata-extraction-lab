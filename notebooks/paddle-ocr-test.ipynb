{
 "cells": [
  {
   "cell_type": "code",
   "execution_count": null,
   "id": "5b9bdc3a-457e-4507-9e60-346ff078d76a",
   "metadata": {},
   "outputs": [],
   "source": [
    "# Modified example from https://github.com/PaddlePaddle/PaddleOCR/blob/main/doc/doc_en/quickstart_en.md\n",
    "from paddleocr import PaddleOCR,draw_ocr\n",
    "from PIL import Image\n",
    "from IPython.display import display"
   ]
  },
  {
   "cell_type": "code",
   "execution_count": null,
   "id": "a2348504-28ae-41cc-ad6b-44f6b03d583d",
   "metadata": {},
   "outputs": [],
   "source": [
    "ocr = PaddleOCR(use_angle_cls=True, lang='en')\n",
    "img_path = '../data/ocr-image-input.png'\n",
    "result = ocr.ocr(img_path, cls=True)\n",
    "for idx in range(len(result)):\n",
    "    res = result[idx]\n",
    "    for line in res:\n",
    "        print(line)"
   ]
  },
  {
   "cell_type": "code",
   "execution_count": null,
   "id": "afb92e04-9345-4c16-98f2-5ed3a919dd9c",
   "metadata": {},
   "outputs": [],
   "source": [
    "result = result[0]\n",
    "image = Image.open(img_path).convert('RGB')\n",
    "boxes = [line[0] for line in result]\n",
    "txts = [line[1][0] for line in result]\n",
    "scores = [line[1][1] for line in result]\n",
    "im_show = draw_ocr(image, boxes, txts, scores, font_path='../data/fonts/simfang.ttf')\n",
    "im_show = Image.fromarray(im_show)\n",
    "display(im_show)"
   ]
  },
  {
   "cell_type": "code",
   "execution_count": null,
   "id": "ee633b24-f950-482a-aa8f-5df46ec78df0",
   "metadata": {},
   "outputs": [],
   "source": []
  }
 ],
 "metadata": {
  "kernelspec": {
   "display_name": "Python 3 (ipykernel)",
   "language": "python",
   "name": "python3"
  },
  "language_info": {
   "codemirror_mode": {
    "name": "ipython",
    "version": 3
   },
   "file_extension": ".py",
   "mimetype": "text/x-python",
   "name": "python",
   "nbconvert_exporter": "python",
   "pygments_lexer": "ipython3",
   "version": "3.9.19"
  }
 },
 "nbformat": 4,
 "nbformat_minor": 5
}
