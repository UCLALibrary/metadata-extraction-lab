{
 "cells": [
  {
   "cell_type": "code",
   "execution_count": null,
   "id": "b425bba9-4355-4c56-8f45-baefda40c2da",
   "metadata": {},
   "outputs": [],
   "source": [
    "from llama_index.llms.ollama import Ollama"
   ]
  },
  {
   "cell_type": "code",
   "execution_count": null,
   "id": "87212933-60b8-4a6d-9ab3-0a476141955b",
   "metadata": {},
   "outputs": [],
   "source": [
    "llm = Ollama(base_url=\"http://ollama:11434\", model=\"tinyllama\", request_timeout=60.0)"
   ]
  },
  {
   "cell_type": "code",
   "execution_count": null,
   "id": "dbf790f8-64d4-4d02-95ed-de39afb91685",
   "metadata": {},
   "outputs": [],
   "source": [
    "response = llm.complete(\"What is the capital of France?\")\n",
    "print(response)"
   ]
  },
  {
   "cell_type": "code",
   "execution_count": null,
   "id": "5be71d43-61f4-4e46-8489-79c784907d25",
   "metadata": {},
   "outputs": [],
   "source": []
  }
 ],
 "metadata": {
  "kernelspec": {
   "display_name": "Python 3 (ipykernel)",
   "language": "python",
   "name": "python3"
  },
  "language_info": {
   "codemirror_mode": {
    "name": "ipython",
    "version": 3
   },
   "file_extension": ".py",
   "mimetype": "text/x-python",
   "name": "python",
   "nbconvert_exporter": "python",
   "pygments_lexer": "ipython3",
   "version": "3.9.19"
  }
 },
 "nbformat": 4,
 "nbformat_minor": 5
}
